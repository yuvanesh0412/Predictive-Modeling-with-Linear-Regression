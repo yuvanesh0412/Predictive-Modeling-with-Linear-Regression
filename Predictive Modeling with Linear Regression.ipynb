{
 "cells": [
  {
   "cell_type": "markdown",
   "id": "7e9d12f6-4aa9-46a9-ab3d-ee5d7cb81374",
   "metadata": {},
   "source": [
    "# Task 2 - Predictive Modeling with Linear Regression"
   ]
  },
  {
   "cell_type": "code",
   "execution_count": 1,
   "id": "941209be-2da9-43a3-ba18-13c5a5f9fc9f",
   "metadata": {},
   "outputs": [],
   "source": [
    "import pandas as pd\n",
    "import numpy as np\n",
    "from sklearn.model_selection import train_test_split\n",
    "from sklearn.linear_model import LinearRegression\n",
    "from sklearn.metrics import mean_squared_error, r2_score\n",
    "from sklearn.preprocessing import StandardScaler\n",
    "import matplotlib.pyplot as plt\n",
    "import seaborn as sns"
   ]
  },
  {
   "cell_type": "code",
   "execution_count": 2,
   "id": "69d3c605-5af7-491c-aa03-3cfa337679f4",
   "metadata": {},
   "outputs": [],
   "source": [
    "# Loading the dataset\n",
    "df = pd.read_csv('C:/Users/Rohit Gupta/Downloads/Salary Data.csv')"
   ]
  },
  {
   "cell_type": "code",
   "execution_count": 3,
   "id": "0038e7d2-0df9-4790-8c08-d8dafdd9e258",
   "metadata": {},
   "outputs": [
    {
     "name": "stdout",
     "output_type": "stream",
     "text": [
      "    Age  Gender Education Level          Job Title  Years of Experience  \\\n",
      "0  32.0    Male      Bachelor's  Software Engineer                  5.0   \n",
      "1  28.0  Female        Master's       Data Analyst                  3.0   \n",
      "2  45.0    Male             PhD     Senior Manager                 15.0   \n",
      "3  36.0  Female      Bachelor's    Sales Associate                  7.0   \n",
      "4  52.0    Male        Master's           Director                 20.0   \n",
      "\n",
      "     Salary  \n",
      "0   90000.0  \n",
      "1   65000.0  \n",
      "2  150000.0  \n",
      "3   60000.0  \n",
      "4  200000.0  \n"
     ]
    }
   ],
   "source": [
    "# first few rows\n",
    "print(df.head())"
   ]
  },
  {
   "cell_type": "code",
   "execution_count": 4,
   "id": "ed3de38e-b75c-489f-bd74-a1b49011205d",
   "metadata": {},
   "outputs": [
    {
     "name": "stdout",
     "output_type": "stream",
     "text": [
      "(375, 6)\n"
     ]
    }
   ],
   "source": [
    "print(df.shape)"
   ]
  },
  {
   "cell_type": "code",
   "execution_count": 5,
   "id": "c578d432-be58-465e-9899-a5c9c3991778",
   "metadata": {},
   "outputs": [
    {
     "name": "stdout",
     "output_type": "stream",
     "text": [
      "<class 'pandas.core.frame.DataFrame'>\n",
      "RangeIndex: 375 entries, 0 to 374\n",
      "Data columns (total 6 columns):\n",
      " #   Column               Non-Null Count  Dtype  \n",
      "---  ------               --------------  -----  \n",
      " 0   Age                  373 non-null    float64\n",
      " 1   Gender               373 non-null    object \n",
      " 2   Education Level      373 non-null    object \n",
      " 3   Job Title            373 non-null    object \n",
      " 4   Years of Experience  373 non-null    float64\n",
      " 5   Salary               373 non-null    float64\n",
      "dtypes: float64(3), object(3)\n",
      "memory usage: 17.7+ KB\n",
      "None\n"
     ]
    }
   ],
   "source": [
    "print(df.info())"
   ]
  },
  {
   "cell_type": "code",
   "execution_count": 6,
   "id": "5fa369e1-2c4d-4267-9f01-3c77c5c8057e",
   "metadata": {},
   "outputs": [
    {
     "name": "stdout",
     "output_type": "stream",
     "text": [
      "              Age  Years of Experience         Salary\n",
      "count  373.000000           373.000000     373.000000\n",
      "mean    37.431635            10.030831  100577.345845\n",
      "std      7.069073             6.557007   48240.013482\n",
      "min     23.000000             0.000000     350.000000\n",
      "25%     31.000000             4.000000   55000.000000\n",
      "50%     36.000000             9.000000   95000.000000\n",
      "75%     44.000000            15.000000  140000.000000\n",
      "max     53.000000            25.000000  250000.000000\n"
     ]
    }
   ],
   "source": [
    "# Statistical Analysis of numerical columns\n",
    "print(df.describe())"
   ]
  },
  {
   "cell_type": "code",
   "execution_count": 7,
   "id": "80f9c132-ede7-4c08-bf49-e3b12bc1f128",
   "metadata": {},
   "outputs": [
    {
     "name": "stdout",
     "output_type": "stream",
     "text": [
      "Age                    2\n",
      "Gender                 2\n",
      "Education Level        2\n",
      "Job Title              2\n",
      "Years of Experience    2\n",
      "Salary                 2\n",
      "dtype: int64\n"
     ]
    }
   ],
   "source": [
    "# Checking for missing values\n",
    "print(df.isnull().sum())"
   ]
  },
  {
   "cell_type": "markdown",
   "id": "4b76b0c8-99be-4d98-8178-edb69792a731",
   "metadata": {},
   "source": [
    "### Missing values are present in each column."
   ]
  },
  {
   "cell_type": "code",
   "execution_count": 20,
   "id": "eb1dcccc-dd8c-4344-b05d-3b9e33b51030",
   "metadata": {},
   "outputs": [],
   "source": [
    "# Handling missing values\n",
    "# Filling missing values with the median for numerical columns\n",
    "for col in df.select_dtypes(include=['float64', 'int64']).columns:\n",
    "    df[col].fillna(df[col].median(), inplace=True)\n",
    "\n",
    "# Fill missing values with the mode for categorical columns\n",
    "for col in df.select_dtypes(include=['object']).columns:\n",
    "    df[col].fillna(df[col].mode()[0], inplace=True)"
   ]
  },
  {
   "cell_type": "code",
   "execution_count": 21,
   "id": "04d73a44-6393-4e68-a1e4-5ce6d16eadca",
   "metadata": {},
   "outputs": [
    {
     "name": "stdout",
     "output_type": "stream",
     "text": [
      "Age                    0\n",
      "Gender                 0\n",
      "Education Level        0\n",
      "Job Title              0\n",
      "Years of Experience    0\n",
      "Salary                 0\n",
      "dtype: int64\n"
     ]
    }
   ],
   "source": [
    "print(df.isnull().sum())"
   ]
  },
  {
   "cell_type": "code",
   "execution_count": 10,
   "id": "87045152-680e-4dcd-9dfe-9cbf27e3001a",
   "metadata": {},
   "outputs": [],
   "source": [
    "# One-hot encode categorical variables\n",
    "df_encoded = pd.get_dummies(df, columns=['Gender', 'Education Level', 'Job Title'], drop_first=True)"
   ]
  },
  {
   "cell_type": "code",
   "execution_count": 22,
   "id": "45e545c8-aa19-450b-b2b4-c78d927e2e19",
   "metadata": {},
   "outputs": [
    {
     "name": "stdout",
     "output_type": "stream",
     "text": [
      "Mean Squared Error: 3.732295307769073e+24\n",
      "R-squared: -1.349167369096736e+25\n"
     ]
    }
   ],
   "source": [
    "# Remove outliers from the target variable\n",
    "Q1 = df_encoded['Salary'].quantile(0.25)\n",
    "Q3 = df_encoded['Salary'].quantile(0.75)\n",
    "IQR = Q3 - Q1\n",
    "df_encoded = df_encoded[~((df_encoded['Salary'] < (Q1 - 1.5 * IQR)) | (df_encoded['Salary'] > (Q3 + 1.5 * IQR)))]\n",
    "\n",
    "# Defining feature variables (X) and target variable (y)\n",
    "X = df_encoded.drop(columns='Salary')\n",
    "y = df_encoded['Salary']\n",
    "\n",
    "# Applying log transformation to make the target variable 'salary' equally distributed as i am assuming that it has skewed distribution\n",
    "y = np.log1p(y)\n",
    "\n",
    "# Split the data into training and testing sets\n",
    "X_train, X_test, y_train, y_test = train_test_split(X, y, test_size=0.2, random_state=42)\n",
    "\n",
    "# Standardize the feature variables\n",
    "scaler = StandardScaler()\n",
    "X_train_scaled = scaler.fit_transform(X_train)\n",
    "X_test_scaled = scaler.transform(X_test)\n",
    "\n",
    "# Initialize the linear regression model\n",
    "model = LinearRegression()\n",
    "\n",
    "# Train the model\n",
    "model.fit(X_train_scaled, y_train)\n",
    "\n",
    "# Make predictions\n",
    "y_pred = model.predict(X_test_scaled)\n",
    "\n",
    "# Evaluate the model\n",
    "mse = mean_squared_error(y_test, y_pred)\n",
    "r2 = r2_score(y_test, y_pred)\n",
    "\n",
    "print(f'Mean Squared Error: {mse}')\n",
    "print(f'R-squared: {r2}')"
   ]
  },
  {
   "cell_type": "markdown",
   "id": "cc5408a2-57e1-41ee-9122-ea0b4c81a61e",
   "metadata": {},
   "source": [
    "### The MSE is extremely high which indicates poor model performance and a highly negative Rsquare indicates that the model is fitting the data very poorly.\n"
   ]
  },
  {
   "cell_type": "code",
   "execution_count": 24,
   "id": "0785f853-fb77-4830-9ade-00ee3cca8beb",
   "metadata": {},
   "outputs": [
    {
     "data": {
      "image/png": "[encoded data removed]",
      "text/plain": [
       "<Figure size 600x400 with 1 Axes>"
      ]
     },
     "metadata": {},
     "output_type": "display_data"
    },
    {
     "name": "stderr",
     "output_type": "stream",
     "text": [
      "C:\\Users\\Rohit Gupta\\anaconda3\\Lib\\site-packages\\seaborn\\_oldcore.py:1119: FutureWarning: use_inf_as_na option is deprecated and will be removed in a future version. Convert inf values to NaN before operating instead.\n",
      "  with pd.option_context('mode.use_inf_as_na', True):\n"
     ]
    },
    {
     "data": {
      "image/png": "[encoded data removed]",
      "text/plain": [
       "<Figure size 600x400 with 1 Axes>"
      ]
     },
     "metadata": {},
     "output_type": "display_data"
    }
   ],
   "source": [
    "# Plotting actual vs predicted values\n",
    "plt.figure(figsize=(6, 4))\n",
    "sns.scatterplot(x=y_test, y=y_pred)\n",
    "plt.xlabel('Actual Salary (log-transformed)')\n",
    "plt.ylabel('Predicted Salary (log-transformed)')\n",
    "plt.title('Actual vs Predicted Salary')\n",
    "plt.show()\n",
    "\n",
    "# Plotting residuals\n",
    "residuals = y_test - y_pred\n",
    "plt.figure(figsize=(6, 4))\n",
    "sns.histplot(residuals, bins=30, kde=True)\n",
    "plt.xlabel('Residuals')\n",
    "plt.title('Residuals Distribution')\n",
    "plt.show()"
   ]
  },
  {
   "cell_type": "markdown",
   "id": "67228965-d939-47cc-a880-bd1d60ea1e34",
   "metadata": {},
   "source": [
    "### The scatter plot of actual vs. predicted salary suggests that the model is not perfectly accurate at predicting salary, but there is a positive relationship. Although, the histogram shows that the distribution is centered around 0 with a slight positive skew suggests that the linear regression model is performing well.The distribution of residuals shows a significant spread with extreme values. This further indicates that the model is not fitting the data properly. Overall, the histogram of the residuals suggests the model performs well."
   ]
  },
  {
   "cell_type": "markdown",
   "id": "4c3fe0e2-9526-450a-a70f-a7a8909978d9",
   "metadata": {},
   "source": [
    "### The linear regression model seems like a good starting point for predicting salary. The residuals and the positive correlation suggest it's on the right track. But, we can fine-tune the model to improve its accuracy."
   ]
  },
  {
   "cell_type": "code",
   "execution_count": null,
   "id": "d4785da7-a6eb-4e3a-8b5e-899717d42e13",
   "metadata": {},
   "outputs": [],
   "source": []
  },
  {
   "cell_type": "code",
   "execution_count": null,
   "id": "c1b651be-7f87-4f11-980a-76ffd48e006e",
   "metadata": {},
   "outputs": [],
   "source": []
  },
  {
   "cell_type": "code",
   "execution_count": null,
   "id": "62170d18-3573-4458-96f2-0f0c7fb2884e",
   "metadata": {},
   "outputs": [],
   "source": []
  },
  {
   "cell_type": "code",
   "execution_count": null,
   "id": "55a369de-4dff-4ec0-b708-a89a5539e1bb",
   "metadata": {},
   "outputs": [],
   "source": []
  },
  {
   "cell_type": "code",
   "execution_count": null,
   "id": "b370ddfd-898c-4d08-983d-142dac235848",
   "metadata": {},
   "outputs": [],
   "source": []
  },
  {
   "cell_type": "code",
   "execution_count": null,
   "id": "35e79578-03e7-4252-af2c-b59a038c6d35",
   "metadata": {},
   "outputs": [],
   "source": []
  },
  {
   "cell_type": "code",
   "execution_count": null,
   "id": "0f60378d-4b98-4066-8f66-09f203b002a2",
   "metadata": {},
   "outputs": [],
   "source": []
  },
  {
   "cell_type": "code",
   "execution_count": null,
   "id": "820cfa84-dd64-4a14-acd1-4733b23808da",
   "metadata": {},
   "outputs": [],
   "source": []
  },
  {
   "cell_type": "code",
   "execution_count": null,
   "id": "ac273519-1485-4942-bb96-f329cf0d9905",
   "metadata": {},
   "outputs": [],
   "source": []
  },
  {
   "cell_type": "code",
   "execution_count": null,
   "id": "d808f267-8a6e-4462-b10a-a94d9a8aade5",
   "metadata": {},
   "outputs": [],
   "source": []
  },
  {
   "cell_type": "code",
   "execution_count": null,
   "id": "72e190dc-0eb0-4d51-aef4-be1b4cbd1dad",
   "metadata": {},
   "outputs": [],
   "source": []
  },
  {
   "cell_type": "code",
   "execution_count": null,
   "id": "d91efba3-d6cc-4982-a536-f5be42f74482",
   "metadata": {},
   "outputs": [],
   "source": []
  },
  {
   "cell_type": "code",
   "execution_count": null,
   "id": "cac69454-d464-48b7-8ecd-3e625d8bc037",
   "metadata": {},
   "outputs": [],
   "source": []
  },
  {
   "cell_type": "code",
   "execution_count": null,
   "id": "877566a9-b642-48a5-a85c-87badc27a16a",
   "metadata": {},
   "outputs": [],
   "source": []
  },
  {
   "cell_type": "code",
   "execution_count": null,
   "id": "2a6e9970-82c7-4a01-8b4a-0fc8597dcc18",
   "metadata": {},
   "outputs": [],
   "source": []
  },
  {
   "cell_type": "code",
   "execution_count": null,
   "id": "bbb71cc7-0329-43c2-b24f-f901ee5a08c6",
   "metadata": {},
   "outputs": [],
   "source": []
  },
  {
   "cell_type": "code",
   "execution_count": null,
   "id": "eddb3fb7-4bfb-4b9a-844d-ae997cedbe15",
   "metadata": {},
   "outputs": [],
   "source": []
  },
  {
   "cell_type": "code",
   "execution_count": null,
   "id": "52c7071d-01c2-47c7-a533-7a3aa7fb8dad",
   "metadata": {},
   "outputs": [],
   "source": []
  },
  {
   "cell_type": "code",
   "execution_count": null,
   "id": "eab1e08a-d0f8-4dce-8414-c70a406c55f3",
   "metadata": {},
   "outputs": [],
   "source": []
  },
  {
   "cell_type": "code",
   "execution_count": null,
   "id": "2525d016-8c43-4cc0-b592-ad53d6358c30",
   "metadata": {},
   "outputs": [],
   "source": []
  },
  {
   "cell_type": "code",
   "execution_count": null,
   "id": "7967a2b3-081e-4c14-97f1-079802353297",
   "metadata": {},
   "outputs": [],
   "source": []
  },
  {
   "cell_type": "code",
   "execution_count": null,
   "id": "61b526a7-40d7-4fdc-b28a-c9450d326031",
   "metadata": {},
   "outputs": [],
   "source": []
  },
  {
   "cell_type": "code",
   "execution_count": null,
   "id": "834490ab-1185-4663-9491-bbccd61fb5a4",
   "metadata": {},
   "outputs": [],
   "source": []
  },
  {
   "cell_type": "code",
   "execution_count": null,
   "id": "3028c4c2-8ef9-49a1-b43d-7a91cf536ee5",
   "metadata": {},
   "outputs": [],
   "source": []
  }
 ],
 "metadata": {
  "kernelspec": {
   "display_name": "Python 3 (ipykernel)",
   "language": "python",
   "name": "python3"
  },
  "language_info": {
   "codemirror_mode": {
    "name": "ipython",
    "version": 3
   },
   "file_extension": ".py",
   "mimetype": "text/x-python",
   "name": "python",
   "nbconvert_exporter": "python",
   "pygments_lexer": "ipython3",
   "version": "3.11.7"
  }
 },
 "nbformat": 4,
 "nbformat_minor": 5
}
